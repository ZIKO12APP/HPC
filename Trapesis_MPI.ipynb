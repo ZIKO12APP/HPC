{
 "cells": [
  {
   "cell_type": "code",
   "execution_count": 1,
   "metadata": {},
   "outputs": [
    {
     "name": "stdout",
     "output_type": "stream",
     "text": [
      "0.3333334990000004\n"
     ]
    }
   ],
   "source": [
    "from mpi4py import MPI\n",
    "\n",
    "comm = MPI.COMM_WORLD\n",
    "rank = comm.Get_rank()\n",
    "size = comm.Get_size()\n",
    "\n",
    "def Trapese(a,b,n,f):\n",
    "   #x=np.linspace(a,b,n)\n",
    "   J=(f(a)+f(b))/2\n",
    "   x=a+(b-a)/n\n",
    "   for i in range(1,n-1):\n",
    "       x=x+(b-a)/n\n",
    "       J=J+f(x)\n",
    "      \n",
    "   return (b-a)/n * J\n",
    "def f(x):\n",
    "    return x**2\n",
    "a=0\n",
    "b=1\n",
    "n=1000\n",
    "#val=Trapese(a,b,n,f)\n",
    "#print(val)\n",
    "n_loc=int(n/size)\n",
    "a_loc=a+rank*n_loc*(b-a)/n\n",
    "b_loc=a_loc+n_loc*(b-a)/n\n",
    "integral_loc=Trapese(a_loc,b_loc,n_loc,f)\n",
    "    \n",
    "if rank ==0 :\n",
    "    val= integral_loc\n",
    "    for pr in range(1,size):\n",
    "        integral_loc=comm.Recv(pr)\n",
    "        \n",
    "        val=val+integral_loc\n",
    "print(val)"
   ]
  }
 ],
 "metadata": {
  "kernelspec": {
   "display_name": "Python 3",
   "language": "python",
   "name": "python3"
  },
  "language_info": {
   "codemirror_mode": {
    "name": "ipython",
    "version": 3
   },
   "file_extension": ".py",
   "mimetype": "text/x-python",
   "name": "python",
   "nbconvert_exporter": "python",
   "pygments_lexer": "ipython3",
   "version": "3.8.5"
  }
 },
 "nbformat": 4,
 "nbformat_minor": 4
}
