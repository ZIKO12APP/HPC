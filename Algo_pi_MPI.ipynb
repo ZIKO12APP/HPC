{
 "cells": [
  {
   "cell_type": "code",
   "execution_count": null,
   "metadata": {},
   "outputs": [],
   "source": [
    "from random import random\n",
    "c=0\n",
    "n=1000\n",
    "#Calculation of pi with normale methode\n",
    "for i in range(n):\n",
    "    \n",
    "    x=random()\n",
    "    y=random()\n",
    "    if x**2 +y**2<= 1:\n",
    "        c=c+1\n",
    "p=4*(c/n)\n",
    "\n",
    "print(p)\n",
    "#######################\n",
    "#Calculation of pi with the MPI method\n",
    "from mpi4py import MPI\n",
    "\n",
    "comm = MPI.COMM_WORLD\n",
    "rank = comm.Get_rank()\n",
    "size = comm.Get_size()\n",
    "n_loc=int(n/size)\n",
    "def nombre_int(t):\n",
    "    v=0\n",
    "    for i in range(t):\n",
    "    \n",
    "        x=random()\n",
    "        y=random()\n",
    "        if x**2 +y**2<= 1:\n",
    "            v=v+1\n",
    "    return v\n",
    "if rank==0:\n",
    "    aire=nombre_int(n_loc)\n",
    "    for pr in range(1,size):\n",
    "        aire=aire+nombre_int(n_loc)\n",
    "        \n",
    "pi=4*(aire/n)\n",
    "print(pi)   "
   ]
  }
 ],
 "metadata": {
  "kernelspec": {
   "display_name": "Python 3",
   "language": "python",
   "name": "python3"
  },
  "language_info": {
   "codemirror_mode": {
    "name": "ipython",
    "version": 3
   },
   "file_extension": ".py",
   "mimetype": "text/x-python",
   "name": "python",
   "nbconvert_exporter": "python",
   "pygments_lexer": "ipython3",
   "version": "3.8.5"
  }
 },
 "nbformat": 4,
 "nbformat_minor": 4
}
